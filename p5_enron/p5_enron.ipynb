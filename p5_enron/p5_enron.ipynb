{
 "metadata": {
  "name": ""
 },
 "nbformat": 3,
 "nbformat_minor": 0,
 "worksheets": [
  {
   "cells": [
    {
     "cell_type": "code",
     "collapsed": false,
     "input": [
      "import pandas as pd\n",
      "import numpy as np\n",
      "import matplotlib.pyplot as plt\n",
      "import pickle"
     ],
     "language": "python",
     "metadata": {},
     "outputs": [
      {
       "output_type": "stream",
       "stream": "stderr",
       "text": [
        "/usr/local/lib/python2.7/dist-packages/matplotlib/font_manager.py:273: UserWarning: Matplotlib is building the font cache using fc-list. This may take a moment.\n",
        "  warnings.warn('Matplotlib is building the font cache using fc-list. This may take a moment.')\n"
       ]
      }
     ],
     "prompt_number": 1
    },
    {
     "cell_type": "code",
     "collapsed": false,
     "input": [
      "%matplotlib inline"
     ],
     "language": "python",
     "metadata": {},
     "outputs": [],
     "prompt_number": 2
    },
    {
     "cell_type": "code",
     "collapsed": false,
     "input": [
      "cd ~/proj/datan/p5_enron/"
     ],
     "language": "python",
     "metadata": {},
     "outputs": [
      {
       "output_type": "stream",
       "stream": "stdout",
       "text": [
        "/home/xery/proj/datan/p5_enron\n"
       ]
      }
     ],
     "prompt_number": 3
    },
    {
     "cell_type": "code",
     "collapsed": false,
     "input": [
      "ls"
     ],
     "language": "python",
     "metadata": {},
     "outputs": [
      {
       "output_type": "stream",
       "stream": "stdout",
       "text": [
        "enron61702insiderpay.pdf            final_project_dataset.pkl  my_dataset.pkl       poi_email_addresses.py  poi_names.txt  tester.pyc\r\n",
        "final_project_dataset_modified.pkl  my_classifier.pkl          my_feature_list.pkl  poi_id.py               tester.py      \u001b[0m\u001b[01;34mtools\u001b[0m/\r\n"
       ]
      }
     ],
     "prompt_number": 4
    },
    {
     "cell_type": "code",
     "collapsed": false,
     "input": [
      "d=pickle.load(open(\"final_project_dataset.pkl\"))"
     ],
     "language": "python",
     "metadata": {},
     "outputs": [],
     "prompt_number": 5
    },
    {
     "cell_type": "markdown",
     "metadata": {},
     "source": [
      "Number of records"
     ]
    },
    {
     "cell_type": "code",
     "collapsed": false,
     "input": [
      "len(d)"
     ],
     "language": "python",
     "metadata": {},
     "outputs": [
      {
       "metadata": {},
       "output_type": "pyout",
       "prompt_number": 6,
       "text": [
        "146"
       ]
      }
     ],
     "prompt_number": 6
    },
    {
     "cell_type": "markdown",
     "metadata": {},
     "source": [
      "Number of features"
     ]
    },
    {
     "cell_type": "code",
     "collapsed": false,
     "input": [
      "len(d.items()[0][1])"
     ],
     "language": "python",
     "metadata": {},
     "outputs": [
      {
       "metadata": {},
       "output_type": "pyout",
       "prompt_number": 7,
       "text": [
        "21"
       ]
      }
     ],
     "prompt_number": 7
    },
    {
     "cell_type": "code",
     "collapsed": false,
     "input": [
      "d.items()[0][1]"
     ],
     "language": "python",
     "metadata": {},
     "outputs": [
      {
       "metadata": {},
       "output_type": "pyout",
       "prompt_number": 8,
       "text": [
        "{'bonus': 600000,\n",
        " 'deferral_payments': 'NaN',\n",
        " 'deferred_income': 'NaN',\n",
        " 'director_fees': 'NaN',\n",
        " 'email_address': 'mark.metts@enron.com',\n",
        " 'exercised_stock_options': 'NaN',\n",
        " 'expenses': 94299,\n",
        " 'from_messages': 29,\n",
        " 'from_poi_to_this_person': 38,\n",
        " 'from_this_person_to_poi': 1,\n",
        " 'loan_advances': 'NaN',\n",
        " 'long_term_incentive': 'NaN',\n",
        " 'other': 1740,\n",
        " 'poi': False,\n",
        " 'restricted_stock': 585062,\n",
        " 'restricted_stock_deferred': 'NaN',\n",
        " 'salary': 365788,\n",
        " 'shared_receipt_with_poi': 702,\n",
        " 'to_messages': 807,\n",
        " 'total_payments': 1061827,\n",
        " 'total_stock_value': 585062}"
       ]
      }
     ],
     "prompt_number": 8
    },
    {
     "cell_type": "code",
     "collapsed": false,
     "input": [
      "df=pd.DataFrame.from_dict(d, orient='index', dtype=np.float)"
     ],
     "language": "python",
     "metadata": {},
     "outputs": [],
     "prompt_number": 9
    },
    {
     "cell_type": "code",
     "collapsed": false,
     "input": [
      "df.dtypes"
     ],
     "language": "python",
     "metadata": {},
     "outputs": [
      {
       "metadata": {},
       "output_type": "pyout",
       "prompt_number": 10,
       "text": [
        "salary                       float64\n",
        "to_messages                  float64\n",
        "deferral_payments            float64\n",
        "total_payments               float64\n",
        "exercised_stock_options      float64\n",
        "bonus                        float64\n",
        "restricted_stock             float64\n",
        "shared_receipt_with_poi      float64\n",
        "restricted_stock_deferred    float64\n",
        "total_stock_value            float64\n",
        "expenses                     float64\n",
        "loan_advances                float64\n",
        "from_messages                float64\n",
        "other                        float64\n",
        "from_this_person_to_poi      float64\n",
        "poi                          float64\n",
        "director_fees                float64\n",
        "deferred_income              float64\n",
        "long_term_incentive          float64\n",
        "email_address                 object\n",
        "from_poi_to_this_person      float64\n",
        "dtype: object"
       ]
      }
     ],
     "prompt_number": 10
    },
    {
     "cell_type": "markdown",
     "metadata": {},
     "source": [
      "Explicitly assigning np.NaN to the 'email_address' column, since if it is empty it contains a 'NaN' in the form of a string that is not recognized by pd.isnull()"
     ]
    },
    {
     "cell_type": "code",
     "collapsed": false,
     "input": [
      "df.loc[df.email_address == 'NaN', 'email_address'] = np.NaN"
     ],
     "language": "python",
     "metadata": {},
     "outputs": [],
     "prompt_number": 11
    },
    {
     "cell_type": "markdown",
     "metadata": {},
     "source": [
      "Are there any records containing only 'NaN's (the 'poi' target label is to be excluded)?"
     ]
    },
    {
     "cell_type": "code",
     "collapsed": false,
     "input": [
      "df.ix[:,df.columns != 'poi'].isnull().all(1).any()"
     ],
     "language": "python",
     "metadata": {},
     "outputs": [
      {
       "metadata": {},
       "output_type": "pyout",
       "prompt_number": 12,
       "text": [
        "True"
       ]
      }
     ],
     "prompt_number": 12
    },
    {
     "cell_type": "markdown",
     "metadata": {},
     "source": [
      "Who's that guy?"
     ]
    },
    {
     "cell_type": "code",
     "collapsed": false,
     "input": [
      "df[df.ix[:,df.columns != 'poi'].isnull().all(1)]"
     ],
     "language": "python",
     "metadata": {},
     "outputs": [
      {
       "html": [
        "<div style=\"max-width:1500px;overflow:auto;\">\n",
        "<table border=\"1\" class=\"dataframe\">\n",
        "  <thead>\n",
        "    <tr style=\"text-align: right;\">\n",
        "      <th></th>\n",
        "      <th>salary</th>\n",
        "      <th>to_messages</th>\n",
        "      <th>deferral_payments</th>\n",
        "      <th>total_payments</th>\n",
        "      <th>exercised_stock_options</th>\n",
        "      <th>bonus</th>\n",
        "      <th>restricted_stock</th>\n",
        "      <th>shared_receipt_with_poi</th>\n",
        "      <th>restricted_stock_deferred</th>\n",
        "      <th>total_stock_value</th>\n",
        "      <th>...</th>\n",
        "      <th>loan_advances</th>\n",
        "      <th>from_messages</th>\n",
        "      <th>other</th>\n",
        "      <th>from_this_person_to_poi</th>\n",
        "      <th>poi</th>\n",
        "      <th>director_fees</th>\n",
        "      <th>deferred_income</th>\n",
        "      <th>long_term_incentive</th>\n",
        "      <th>email_address</th>\n",
        "      <th>from_poi_to_this_person</th>\n",
        "    </tr>\n",
        "  </thead>\n",
        "  <tbody>\n",
        "    <tr>\n",
        "      <th>LOCKHART EUGENE E</th>\n",
        "      <td>NaN</td>\n",
        "      <td>NaN</td>\n",
        "      <td>NaN</td>\n",
        "      <td>NaN</td>\n",
        "      <td>NaN</td>\n",
        "      <td>NaN</td>\n",
        "      <td>NaN</td>\n",
        "      <td>NaN</td>\n",
        "      <td>NaN</td>\n",
        "      <td>NaN</td>\n",
        "      <td>...</td>\n",
        "      <td>NaN</td>\n",
        "      <td>NaN</td>\n",
        "      <td>NaN</td>\n",
        "      <td>NaN</td>\n",
        "      <td>0.0</td>\n",
        "      <td>NaN</td>\n",
        "      <td>NaN</td>\n",
        "      <td>NaN</td>\n",
        "      <td>NaN</td>\n",
        "      <td>NaN</td>\n",
        "    </tr>\n",
        "  </tbody>\n",
        "</table>\n",
        "<p>1 rows \u00d7 21 columns</p>\n",
        "</div>"
       ],
       "metadata": {},
       "output_type": "pyout",
       "prompt_number": 13,
       "text": [
        "                   salary  to_messages  deferral_payments  total_payments  \\\n",
        "LOCKHART EUGENE E     NaN          NaN                NaN             NaN   \n",
        "\n",
        "                   exercised_stock_options  bonus  restricted_stock  \\\n",
        "LOCKHART EUGENE E                      NaN    NaN               NaN   \n",
        "\n",
        "                   shared_receipt_with_poi  restricted_stock_deferred  \\\n",
        "LOCKHART EUGENE E                      NaN                        NaN   \n",
        "\n",
        "                   total_stock_value           ...            loan_advances  \\\n",
        "LOCKHART EUGENE E                NaN           ...                      NaN   \n",
        "\n",
        "                   from_messages  other  from_this_person_to_poi  poi  \\\n",
        "LOCKHART EUGENE E            NaN    NaN                      NaN  0.0   \n",
        "\n",
        "                   director_fees  deferred_income  long_term_incentive  \\\n",
        "LOCKHART EUGENE E            NaN              NaN                  NaN   \n",
        "\n",
        "                   email_address from_poi_to_this_person  \n",
        "LOCKHART EUGENE E            NaN                     NaN  \n",
        "\n",
        "[1 rows x 21 columns]"
       ]
      }
     ],
     "prompt_number": 13
    },
    {
     "cell_type": "markdown",
     "metadata": {},
     "source": [
      "Are there any records without a 'NaN' column?"
     ]
    },
    {
     "cell_type": "code",
     "collapsed": false,
     "input": [
      "df.notnull().all(1).any()"
     ],
     "language": "python",
     "metadata": {},
     "outputs": [
      {
       "metadata": {},
       "output_type": "pyout",
       "prompt_number": 14,
       "text": [
        "False"
       ]
      }
     ],
     "prompt_number": 14
    },
    {
     "cell_type": "markdown",
     "metadata": {},
     "source": [
      "Count how many of the 20 features are NaNs for each person."
     ]
    },
    {
     "cell_type": "code",
     "collapsed": false,
     "input": [
      "nan_per_person = df.isnull().sum(1).sort_values(ascending=False)\n",
      "nan_per_person"
     ],
     "language": "python",
     "metadata": {},
     "outputs": [
      {
       "metadata": {},
       "output_type": "pyout",
       "prompt_number": 15,
       "text": [
        "LOCKHART EUGENE E                20\n",
        "GRAMM WENDY L                    18\n",
        "WROBEL BRUCE                     18\n",
        "WHALEY DAVID A                   18\n",
        "THE TRAVEL AGENCY IN THE PARK    18\n",
        "WAKEHAM JOHN                     17\n",
        "WODRASKA JOHN                    17\n",
        "CLINE KENNETH W                  17\n",
        "GILLIS JOHN                      17\n",
        "SCRIMSHAW MATTHEW                17\n",
        "SAVAGE FRANK                     17\n",
        "MENDELSOHN JOHN                  16\n",
        "YEAP SOON                        16\n",
        "CHRISTODOULOU DIOMEDES           16\n",
        "PEREIRA PAULO V. FERRAZ          16\n",
        "BLAKE JR. NORMAN P               16\n",
        "LOWRY CHARLES P                  16\n",
        "CHAN RONNIE                      16\n",
        "MEYER JEROME J                   16\n",
        "GATHMANN WILLIAM D               16\n",
        "WINOKUR JR. HERBERT S            16\n",
        "FUGH JOHN L                      16\n",
        "URQUHART JOHN A                  16\n",
        "NOLES JAMES L                    15\n",
        "WALTERS GARETH W                 15\n",
        "BADUM JAMES P                    15\n",
        "LEMAISTRE CHARLES                15\n",
        "DUNCAN JOHN H                    15\n",
        "GRAY RODNEY                      15\n",
        "PRENTICE JAMES                   14\n",
        "                                 ..\n",
        "THORN TERENCE H                   5\n",
        "SKILLING JEFFREY K                5\n",
        "SHELBY REX                        5\n",
        "SHANKMAN JEFFREY A                5\n",
        "MURRAY JULIA H                    5\n",
        "DURAN WILLIAM D                   5\n",
        "MCCONNELL MICHAEL S               5\n",
        "MCMAHON JEFFREY                   5\n",
        "FALLON JAMES B                    5\n",
        "FITZGERALD JAY L                  5\n",
        "KOENIG MARK E                     5\n",
        "KEAN STEVEN J                     5\n",
        "GARLAND C KEVIN                   5\n",
        "GLISAN JR BEN F                   5\n",
        "LAVORATO JOHN J                   5\n",
        "RIEKER PAULA H                    4\n",
        "BELDEN TIMOTHY N                  4\n",
        "SHARP VICTORIA T                  4\n",
        "RICE KENNETH D                    4\n",
        "WASAFF GEORGE                     4\n",
        "OLSON CINDY K                     4\n",
        "HANNON KEVIN P                    4\n",
        "MULLER MARK S                     4\n",
        "BUY RICHARD B                     4\n",
        "PIPER GREGORY F                   3\n",
        "DERRICK JR. JAMES V               3\n",
        "LAY KENNETH L                     2\n",
        "HAEDICKE MARK E                   2\n",
        "FREVERT MARK A                    2\n",
        "ALLEN PHILLIP K                   2\n",
        "dtype: int64"
       ]
      }
     ],
     "prompt_number": 15
    },
    {
     "cell_type": "markdown",
     "metadata": {},
     "source": [
      "How many people have NaNs in more than half of the features?"
     ]
    },
    {
     "cell_type": "code",
     "collapsed": false,
     "input": [
      "nan_per_person[nan_per_person >= 10].count()"
     ],
     "language": "python",
     "metadata": {},
     "outputs": [
      {
       "metadata": {},
       "output_type": "pyout",
       "prompt_number": 16,
       "text": [
        "69"
       ]
      }
     ],
     "prompt_number": 16
    },
    {
     "cell_type": "markdown",
     "metadata": {},
     "source": [
      "Let's plot in a very informal way the numeric columns, just to get a feeling about the data magnitudes."
     ]
    },
    {
     "cell_type": "code",
     "collapsed": false,
     "input": [
      "df.loc[:,df.dtypes==np.float].plot(legend=False, xticks=())"
     ],
     "language": "python",
     "metadata": {},
     "outputs": [
      {
       "metadata": {},
       "output_type": "pyout",
       "prompt_number": 17,
       "text": [
        "<matplotlib.axes._subplots.AxesSubplot at 0x7fe7255dc890>"
       ]
      },
      {
       "metadata": {},
       "output_type": "display_data",
       "png": "[encoded data removed]",
       "text": [
        "<matplotlib.figure.Figure at 0x7fe7255dc150>"
       ]
      }
     ],
     "prompt_number": 17
    },
    {
     "cell_type": "markdown",
     "metadata": {},
     "source": [
      "Looks like there is a record that is very different that the others... an outlier? Which one is it?"
     ]
    },
    {
     "cell_type": "code",
     "collapsed": false,
     "input": [
      "a=(df[df.columns[~df.columns.isin(['email_address'])]] > 3e8).any(1)\n",
      "df[a]"
     ],
     "language": "python",
     "metadata": {},
     "outputs": [
      {
       "html": [
        "<div style=\"max-width:1500px;overflow:auto;\">\n",
        "<table border=\"1\" class=\"dataframe\">\n",
        "  <thead>\n",
        "    <tr style=\"text-align: right;\">\n",
        "      <th></th>\n",
        "      <th>salary</th>\n",
        "      <th>to_messages</th>\n",
        "      <th>deferral_payments</th>\n",
        "      <th>total_payments</th>\n",
        "      <th>exercised_stock_options</th>\n",
        "      <th>bonus</th>\n",
        "      <th>restricted_stock</th>\n",
        "      <th>shared_receipt_with_poi</th>\n",
        "      <th>restricted_stock_deferred</th>\n",
        "      <th>total_stock_value</th>\n",
        "      <th>...</th>\n",
        "      <th>loan_advances</th>\n",
        "      <th>from_messages</th>\n",
        "      <th>other</th>\n",
        "      <th>from_this_person_to_poi</th>\n",
        "      <th>poi</th>\n",
        "      <th>director_fees</th>\n",
        "      <th>deferred_income</th>\n",
        "      <th>long_term_incentive</th>\n",
        "      <th>email_address</th>\n",
        "      <th>from_poi_to_this_person</th>\n",
        "    </tr>\n",
        "  </thead>\n",
        "  <tbody>\n",
        "    <tr>\n",
        "      <th>TOTAL</th>\n",
        "      <td>26704229.0</td>\n",
        "      <td>NaN</td>\n",
        "      <td>32083396.0</td>\n",
        "      <td>309886585.0</td>\n",
        "      <td>311764000.0</td>\n",
        "      <td>97343619.0</td>\n",
        "      <td>130322299.0</td>\n",
        "      <td>NaN</td>\n",
        "      <td>-7576788.0</td>\n",
        "      <td>434509511.0</td>\n",
        "      <td>...</td>\n",
        "      <td>83925000.0</td>\n",
        "      <td>NaN</td>\n",
        "      <td>42667589.0</td>\n",
        "      <td>NaN</td>\n",
        "      <td>0.0</td>\n",
        "      <td>1398517.0</td>\n",
        "      <td>-27992891.0</td>\n",
        "      <td>48521928.0</td>\n",
        "      <td>NaN</td>\n",
        "      <td>NaN</td>\n",
        "    </tr>\n",
        "  </tbody>\n",
        "</table>\n",
        "<p>1 rows \u00d7 21 columns</p>\n",
        "</div>"
       ],
       "metadata": {},
       "output_type": "pyout",
       "prompt_number": 18,
       "text": [
        "           salary  to_messages  deferral_payments  total_payments  \\\n",
        "TOTAL  26704229.0          NaN         32083396.0     309886585.0   \n",
        "\n",
        "       exercised_stock_options       bonus  restricted_stock  \\\n",
        "TOTAL              311764000.0  97343619.0       130322299.0   \n",
        "\n",
        "       shared_receipt_with_poi  restricted_stock_deferred  total_stock_value  \\\n",
        "TOTAL                      NaN                 -7576788.0        434509511.0   \n",
        "\n",
        "                ...            loan_advances  from_messages       other  \\\n",
        "TOTAL           ...               83925000.0            NaN  42667589.0   \n",
        "\n",
        "       from_this_person_to_poi  poi  director_fees  deferred_income  \\\n",
        "TOTAL                      NaN  0.0      1398517.0      -27992891.0   \n",
        "\n",
        "       long_term_incentive  email_address from_poi_to_this_person  \n",
        "TOTAL           48521928.0            NaN                     NaN  \n",
        "\n",
        "[1 rows x 21 columns]"
       ]
      }
     ],
     "prompt_number": 18
    },
    {
     "cell_type": "markdown",
     "metadata": {},
     "source": [
      "Sort the columns according to the number of NaN values in them?"
     ]
    },
    {
     "cell_type": "code",
     "collapsed": false,
     "input": [
      "df.isnull().sum().sort_values(ascending=False)"
     ],
     "language": "python",
     "metadata": {},
     "outputs": [
      {
       "metadata": {},
       "output_type": "pyout",
       "prompt_number": 19,
       "text": [
        "loan_advances                142\n",
        "director_fees                129\n",
        "restricted_stock_deferred    128\n",
        "deferral_payments            107\n",
        "deferred_income               97\n",
        "long_term_incentive           80\n",
        "bonus                         64\n",
        "from_poi_to_this_person       60\n",
        "shared_receipt_with_poi       60\n",
        "to_messages                   60\n",
        "from_this_person_to_poi       60\n",
        "from_messages                 60\n",
        "other                         53\n",
        "expenses                      51\n",
        "salary                        51\n",
        "exercised_stock_options       44\n",
        "restricted_stock              36\n",
        "email_address                 35\n",
        "total_payments                21\n",
        "total_stock_value             20\n",
        "poi                            0\n",
        "dtype: int64"
       ]
      }
     ],
     "prompt_number": 19
    },
    {
     "cell_type": "markdown",
     "metadata": {},
     "source": [
      "Find out if the values of the non-TOTAL rows sum up correctly to the respective values in the TOTAL row"
     ]
    },
    {
     "cell_type": "code",
     "collapsed": false,
     "input": [
      "# Find all columns where the TOTAL row has valid values\n",
      "col_where_total_is_nan = df.loc['TOTAL', df.loc['TOTAL'].notnull()]\n",
      "# Also remove the POI column\n",
      "col_where_total_is_nan.drop('poi', inplace=True)\n",
      "# Get a view of the original DataFrame containing only the columns that carry a valid value for TOTAL\n",
      "df_tot_check = df[col_where_total_is_nan.index]\n",
      "# Check if the non-TOTAL rows sum up correctly to the values in the TOTAL row\n",
      "a = (df_tot_check.loc[~df.index.isin(['TOTAL'])].sum() == df_tot_check.loc['TOTAL'])\n",
      "# Print the column names that sum up correctly to the TOTAL\n",
      "a[a==True]"
     ],
     "language": "python",
     "metadata": {},
     "outputs": [
      {
       "metadata": {},
       "output_type": "pyout",
       "prompt_number": 35,
       "text": [
        "salary                 True\n",
        "bonus                  True\n",
        "loan_advances          True\n",
        "long_term_incentive    True\n",
        "dtype: bool"
       ]
      }
     ],
     "prompt_number": 35
    },
    {
     "cell_type": "markdown",
     "metadata": {},
     "source": [
      "Remove the TOTAL row and the \"LOCKHART EUGENE E\" row"
     ]
    },
    {
     "cell_type": "code",
     "collapsed": false,
     "input": [
      "df_cleaned = df.drop(['TOTAL', 'LOCKHART EUGENE E'])"
     ],
     "language": "python",
     "metadata": {},
     "outputs": [],
     "prompt_number": 22
    },
    {
     "cell_type": "code",
     "collapsed": false,
     "input": [
      "df_cleaned.shape"
     ],
     "language": "python",
     "metadata": {},
     "outputs": [
      {
       "metadata": {},
       "output_type": "pyout",
       "prompt_number": 23,
       "text": [
        "(144, 21)"
       ]
      }
     ],
     "prompt_number": 23
    },
    {
     "cell_type": "code",
     "collapsed": false,
     "input": [
      "X, y = df_cleaned.loc[~df_cleaned.columns.isin(['poi'])].values, df_cleaned.poi.values.astype(np.int)\n",
      "names = df_cleaned.index.values"
     ],
     "language": "python",
     "metadata": {},
     "outputs": [],
     "prompt_number": 46
    },
    {
     "cell_type": "heading",
     "level": 5,
     "metadata": {},
     "source": [
      "Appendix: See how \"final_project_dataset_modified.pkl\" is different from \"final_project_dataset.pkl\""
     ]
    },
    {
     "cell_type": "code",
     "collapsed": false,
     "input": [
      "dm = pickle.load(open(\"final_project_dataset_modified.pkl\"))\n",
      "do = d"
     ],
     "language": "python",
     "metadata": {},
     "outputs": [],
     "prompt_number": 24
    },
    {
     "cell_type": "code",
     "collapsed": false,
     "input": [
      "len(dm)"
     ],
     "language": "python",
     "metadata": {},
     "outputs": [
      {
       "metadata": {},
       "output_type": "pyout",
       "prompt_number": 25,
       "text": [
        "143"
       ]
      }
     ],
     "prompt_number": 25
    },
    {
     "cell_type": "code",
     "collapsed": false,
     "input": [
      "set(do.keys())-set(dm.keys())"
     ],
     "language": "python",
     "metadata": {},
     "outputs": [
      {
       "metadata": {},
       "output_type": "pyout",
       "prompt_number": 26,
       "text": [
        "{'LAY KENNETH L', 'SKILLING JEFFREY K', 'TOTAL'}"
       ]
      }
     ],
     "prompt_number": 26
    },
    {
     "cell_type": "code",
     "collapsed": false,
     "input": [
      "len(dm[dm.keys()[0]])"
     ],
     "language": "python",
     "metadata": {},
     "outputs": [
      {
       "metadata": {},
       "output_type": "pyout",
       "prompt_number": 27,
       "text": [
        "21"
       ]
      }
     ],
     "prompt_number": 27
    },
    {
     "cell_type": "code",
     "collapsed": false,
     "input": [
      "do.pop('LAY KENNETH L',\"\")\n",
      "do.pop('SKILLING JEFFREY K',\"\")\n",
      "do.pop('TOTAL',\"\")"
     ],
     "language": "python",
     "metadata": {},
     "outputs": [
      {
       "metadata": {},
       "output_type": "pyout",
       "prompt_number": 28,
       "text": [
        "{'bonus': 97343619,\n",
        " 'deferral_payments': 32083396,\n",
        " 'deferred_income': -27992891,\n",
        " 'director_fees': 1398517,\n",
        " 'email_address': 'NaN',\n",
        " 'exercised_stock_options': 311764000,\n",
        " 'expenses': 5235198,\n",
        " 'from_messages': 'NaN',\n",
        " 'from_poi_to_this_person': 'NaN',\n",
        " 'from_this_person_to_poi': 'NaN',\n",
        " 'loan_advances': 83925000,\n",
        " 'long_term_incentive': 48521928,\n",
        " 'other': 42667589,\n",
        " 'poi': False,\n",
        " 'restricted_stock': 130322299,\n",
        " 'restricted_stock_deferred': -7576788,\n",
        " 'salary': 26704229,\n",
        " 'shared_receipt_with_poi': 'NaN',\n",
        " 'to_messages': 'NaN',\n",
        " 'total_payments': 309886585,\n",
        " 'total_stock_value': 434509511}"
       ]
      }
     ],
     "prompt_number": 28
    },
    {
     "cell_type": "code",
     "collapsed": false,
     "input": [
      "len(do)"
     ],
     "language": "python",
     "metadata": {},
     "outputs": [
      {
       "metadata": {},
       "output_type": "pyout",
       "prompt_number": 29,
       "text": [
        "143"
       ]
      }
     ],
     "prompt_number": 29
    },
    {
     "cell_type": "code",
     "collapsed": false,
     "input": [
      "do==dm"
     ],
     "language": "python",
     "metadata": {},
     "outputs": [
      {
       "metadata": {},
       "output_type": "pyout",
       "prompt_number": 30,
       "text": [
        "False"
       ]
      }
     ],
     "prompt_number": 30
    },
    {
     "cell_type": "code",
     "collapsed": false,
     "input": [
      "set(do.keys())==set(dm.keys())"
     ],
     "language": "python",
     "metadata": {},
     "outputs": [
      {
       "metadata": {},
       "output_type": "pyout",
       "prompt_number": 31,
       "text": [
        "True"
       ]
      }
     ],
     "prompt_number": 31
    },
    {
     "cell_type": "code",
     "collapsed": false,
     "input": [
      "set(dm[dm.keys()[0]].keys())-set(do[do.keys()[0]].keys())"
     ],
     "language": "python",
     "metadata": {},
     "outputs": [
      {
       "metadata": {},
       "output_type": "pyout",
       "prompt_number": 32,
       "text": [
        "set()"
       ]
      }
     ],
     "prompt_number": 32
    },
    {
     "cell_type": "code",
     "collapsed": false,
     "input": [
      "for k in do.keys():\n",
      "    if do[k] != dm[k]:\n",
      "        print k"
     ],
     "language": "python",
     "metadata": {},
     "outputs": [
      {
       "output_type": "stream",
       "stream": "stdout",
       "text": [
        "BHATNAGAR SANJAY\n"
       ]
      }
     ],
     "prompt_number": 33
    },
    {
     "cell_type": "code",
     "collapsed": false,
     "input": [],
     "language": "python",
     "metadata": {},
     "outputs": [],
     "prompt_number": 33
    }
   ],
   "metadata": {}
  }
 ]
}