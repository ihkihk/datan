{
 "cells": [
  {
   "cell_type": "code",
   "execution_count": 1,
   "metadata": {
    "collapsed": false
   },
   "outputs": [
    {
     "name": "stderr",
     "output_type": "stream",
     "text": [
      "/home/xery/py2venv/local/lib/python2.7/site-packages/matplotlib/font_manager.py:273: UserWarning: Matplotlib is building the font cache using fc-list. This may take a moment.\n",
      "  warnings.warn('Matplotlib is building the font cache using fc-list. This may take a moment.')\n"
     ]
    }
   ],
   "source": [
    "import pandas as pd\n",
    "import numpy as np\n",
    "import matplotlib.pyplot as plt\n",
    "import pickle"
   ]
  },
  {
   "cell_type": "code",
   "execution_count": 2,
   "metadata": {
    "collapsed": false
   },
   "outputs": [],
   "source": [
    "%matplotlib inline"
   ]
  },
  {
   "cell_type": "code",
   "execution_count": 3,
   "metadata": {
    "collapsed": false
   },
   "outputs": [
    {
     "name": "stdout",
     "output_type": "stream",
     "text": [
      "/home/xery/proj/datan/p5_enron\n"
     ]
    }
   ],
   "source": [
    "cd ~/proj/datan/p5_enron/"
   ]
  },
  {
   "cell_type": "code",
   "execution_count": 4,
   "metadata": {
    "collapsed": false
   },
   "outputs": [
    {
     "name": "stdout",
     "output_type": "stream",
     "text": [
      "enron61702insiderpay.pdf            poi_email_addresses.py\r\n",
      "final_project_dataset_modified.pkl  \u001b[0m\u001b[01;32mpoi_id.py\u001b[0m*\r\n",
      "final_project_dataset.pkl           poi_names.txt\r\n",
      "my_classifier.pkl                   py2venv-requirements.txt\r\n",
      "my_dataset.pkl                      tester.py\r\n",
      "my_feature_list.pkl                 tester.pyc\r\n",
      "p5_enron.ipynb                      \u001b[01;34mtools\u001b[0m/\r\n"
     ]
    }
   ],
   "source": [
    "ls"
   ]
  },
  {
   "cell_type": "code",
   "execution_count": 5,
   "metadata": {
    "collapsed": false
   },
   "outputs": [],
   "source": [
    "d=pickle.load(open(\"final_project_dataset.pkl\"))"
   ]
  },
  {
   "cell_type": "markdown",
   "metadata": {},
   "source": [
    "Number of records"
   ]
  },
  {
   "cell_type": "code",
   "execution_count": 6,
   "metadata": {
    "collapsed": false
   },
   "outputs": [
    {
     "data": {
      "text/plain": [
       "146"
      ]
     },
     "execution_count": 6,
     "metadata": {},
     "output_type": "execute_result"
    }
   ],
   "source": [
    "len(d)"
   ]
  },
  {
   "cell_type": "markdown",
   "metadata": {},
   "source": [
    "Number of features"
   ]
  },
  {
   "cell_type": "code",
   "execution_count": 7,
   "metadata": {
    "collapsed": false
   },
   "outputs": [
    {
     "data": {
      "text/plain": [
       "21"
      ]
     },
     "execution_count": 7,
     "metadata": {},
     "output_type": "execute_result"
    }
   ],
   "source": [
    "len(d.items()[0][1])"
   ]
  },
  {
   "cell_type": "code",
   "execution_count": 8,
   "metadata": {
    "collapsed": false
   },
   "outputs": [
    {
     "data": {
      "text/plain": [
       "{'bonus': 600000,\n",
       " 'deferral_payments': 'NaN',\n",
       " 'deferred_income': 'NaN',\n",
       " 'director_fees': 'NaN',\n",
       " 'email_address': 'mark.metts@enron.com',\n",
       " 'exercised_stock_options': 'NaN',\n",
       " 'expenses': 94299,\n",
       " 'from_messages': 29,\n",
       " 'from_poi_to_this_person': 38,\n",
       " 'from_this_person_to_poi': 1,\n",
       " 'loan_advances': 'NaN',\n",
       " 'long_term_incentive': 'NaN',\n",
       " 'other': 1740,\n",
       " 'poi': False,\n",
       " 'restricted_stock': 585062,\n",
       " 'restricted_stock_deferred': 'NaN',\n",
       " 'salary': 365788,\n",
       " 'shared_receipt_with_poi': 702,\n",
       " 'to_messages': 807,\n",
       " 'total_payments': 1061827,\n",
       " 'total_stock_value': 585062}"
      ]
     },
     "execution_count": 8,
     "metadata": {},
     "output_type": "execute_result"
    }
   ],
   "source": [
    "d.items()[0][1]"
   ]
  },
  {
   "cell_type": "code",
   "execution_count": 9,
   "metadata": {
    "collapsed": false
   },
   "outputs": [],
   "source": [
    "df=pd.DataFrame.from_dict(d, orient='index', dtype=np.float)"
   ]
  },
  {
   "cell_type": "code",
   "execution_count": 10,
   "metadata": {
    "collapsed": false
   },
   "outputs": [
    {
     "data": {
      "text/plain": [
       "salary                       float64\n",
       "to_messages                  float64\n",
       "deferral_payments            float64\n",
       "total_payments               float64\n",
       "exercised_stock_options      float64\n",
       "bonus                        float64\n",
       "restricted_stock             float64\n",
       "shared_receipt_with_poi      float64\n",
       "restricted_stock_deferred    float64\n",
       "total_stock_value            float64\n",
       "expenses                     float64\n",
       "loan_advances                float64\n",
       "from_messages                float64\n",
       "other                        float64\n",
       "from_this_person_to_poi      float64\n",
       "poi                          float64\n",
       "director_fees                float64\n",
       "deferred_income              float64\n",
       "long_term_incentive          float64\n",
       "email_address                 object\n",
       "from_poi_to_this_person      float64\n",
       "dtype: object"
      ]
     },
     "execution_count": 10,
     "metadata": {},
     "output_type": "execute_result"
    }
   ],
   "source": [
    "df.dtypes"
   ]
  },
  {
   "cell_type": "markdown",
   "metadata": {},
   "source": [
    "Explicitly assigning np.NaN to the 'email_address' column, since if it is empty it contains a 'NaN' in the form of a string that is not recognized by pd.isnull()"
   ]
  },
  {
   "cell_type": "code",
   "execution_count": 11,
   "metadata": {
    "collapsed": false
   },
   "outputs": [],
   "source": [
    "df.loc[df.email_address == 'NaN', 'email_address'] = np.NaN"
   ]
  },
  {
   "cell_type": "markdown",
   "metadata": {},
   "source": [
    "Are there any records containing only 'NaN's (the 'poi' target label is to be excluded)?"
   ]
  },
  {
   "cell_type": "code",
   "execution_count": 12,
   "metadata": {
    "collapsed": false
   },
   "outputs": [
    {
     "data": {
      "text/plain": [
       "True"
      ]
     },
     "execution_count": 12,
     "metadata": {},
     "output_type": "execute_result"
    }
   ],
   "source": [
    "df.ix[:,df.columns != 'poi'].isnull().all(1).any()"
   ]
  },
  {
   "cell_type": "markdown",
   "metadata": {},
   "source": [
    "Who's that guy?"
   ]
  },
  {
   "cell_type": "code",
   "execution_count": 13,
   "metadata": {
    "collapsed": false
   },
   "outputs": [
    {
     "data": {
      "text/html": [
       "<div>\n",
       "<table border=\"1\" class=\"dataframe\">\n",
       "  <thead>\n",
       "    <tr style=\"text-align: right;\">\n",
       "      <th></th>\n",
       "      <th>salary</th>\n",
       "      <th>to_messages</th>\n",
       "      <th>deferral_payments</th>\n",
       "      <th>total_payments</th>\n",
       "      <th>exercised_stock_options</th>\n",
       "      <th>bonus</th>\n",
       "      <th>restricted_stock</th>\n",
       "      <th>shared_receipt_with_poi</th>\n",
       "      <th>restricted_stock_deferred</th>\n",
       "      <th>total_stock_value</th>\n",
       "      <th>...</th>\n",
       "      <th>loan_advances</th>\n",
       "      <th>from_messages</th>\n",
       "      <th>other</th>\n",
       "      <th>from_this_person_to_poi</th>\n",
       "      <th>poi</th>\n",
       "      <th>director_fees</th>\n",
       "      <th>deferred_income</th>\n",
       "      <th>long_term_incentive</th>\n",
       "      <th>email_address</th>\n",
       "      <th>from_poi_to_this_person</th>\n",
       "    </tr>\n",
       "  </thead>\n",
       "  <tbody>\n",
       "    <tr>\n",
       "      <th>LOCKHART EUGENE E</th>\n",
       "      <td>NaN</td>\n",
       "      <td>NaN</td>\n",
       "      <td>NaN</td>\n",
       "      <td>NaN</td>\n",
       "      <td>NaN</td>\n",
       "      <td>NaN</td>\n",
       "      <td>NaN</td>\n",
       "      <td>NaN</td>\n",
       "      <td>NaN</td>\n",
       "      <td>NaN</td>\n",
       "      <td>...</td>\n",
       "      <td>NaN</td>\n",
       "      <td>NaN</td>\n",
       "      <td>NaN</td>\n",
       "      <td>NaN</td>\n",
       "      <td>0.0</td>\n",
       "      <td>NaN</td>\n",
       "      <td>NaN</td>\n",
       "      <td>NaN</td>\n",
       "      <td>NaN</td>\n",
       "      <td>NaN</td>\n",
       "    </tr>\n",
       "  </tbody>\n",
       "</table>\n",
       "<p>1 rows × 21 columns</p>\n",
       "</div>"
      ],
      "text/plain": [
       "                   salary  to_messages  deferral_payments  total_payments  \\\n",
       "LOCKHART EUGENE E     NaN          NaN                NaN             NaN   \n",
       "\n",
       "                   exercised_stock_options  bonus  restricted_stock  \\\n",
       "LOCKHART EUGENE E                      NaN    NaN               NaN   \n",
       "\n",
       "                   shared_receipt_with_poi  restricted_stock_deferred  \\\n",
       "LOCKHART EUGENE E                      NaN                        NaN   \n",
       "\n",
       "                   total_stock_value           ...            loan_advances  \\\n",
       "LOCKHART EUGENE E                NaN           ...                      NaN   \n",
       "\n",
       "                   from_messages  other  from_this_person_to_poi  poi  \\\n",
       "LOCKHART EUGENE E            NaN    NaN                      NaN  0.0   \n",
       "\n",
       "                   director_fees  deferred_income  long_term_incentive  \\\n",
       "LOCKHART EUGENE E            NaN              NaN                  NaN   \n",
       "\n",
       "                   email_address from_poi_to_this_person  \n",
       "LOCKHART EUGENE E            NaN                     NaN  \n",
       "\n",
       "[1 rows x 21 columns]"
      ]
     },
     "execution_count": 13,
     "metadata": {},
     "output_type": "execute_result"
    }
   ],
   "source": [
    "df[df.ix[:,df.columns != 'poi'].isnull().all(1)]"
   ]
  },
  {
   "cell_type": "markdown",
   "metadata": {},
   "source": [
    "Are there any records without a 'NaN' column?"
   ]
  },
  {
   "cell_type": "code",
   "execution_count": 14,
   "metadata": {
    "collapsed": false
   },
   "outputs": [
    {
     "data": {
      "text/plain": [
       "False"
      ]
     },
     "execution_count": 14,
     "metadata": {},
     "output_type": "execute_result"
    }
   ],
   "source": [
    "df.notnull().all(1).any()"
   ]
  },
  {
   "cell_type": "markdown",
   "metadata": {},
   "source": [
    "Count how many of the 20 features are NaNs for each person."
   ]
  },
  {
   "cell_type": "code",
   "execution_count": 15,
   "metadata": {
    "collapsed": false
   },
   "outputs": [
    {
     "data": {
      "text/plain": [
       "LOCKHART EUGENE E                20\n",
       "GRAMM WENDY L                    18\n",
       "WROBEL BRUCE                     18\n",
       "WHALEY DAVID A                   18\n",
       "THE TRAVEL AGENCY IN THE PARK    18\n",
       "WAKEHAM JOHN                     17\n",
       "WODRASKA JOHN                    17\n",
       "CLINE KENNETH W                  17\n",
       "GILLIS JOHN                      17\n",
       "SCRIMSHAW MATTHEW                17\n",
       "SAVAGE FRANK                     17\n",
       "MENDELSOHN JOHN                  16\n",
       "YEAP SOON                        16\n",
       "CHRISTODOULOU DIOMEDES           16\n",
       "PEREIRA PAULO V. FERRAZ          16\n",
       "BLAKE JR. NORMAN P               16\n",
       "LOWRY CHARLES P                  16\n",
       "CHAN RONNIE                      16\n",
       "MEYER JEROME J                   16\n",
       "GATHMANN WILLIAM D               16\n",
       "WINOKUR JR. HERBERT S            16\n",
       "FUGH JOHN L                      16\n",
       "URQUHART JOHN A                  16\n",
       "NOLES JAMES L                    15\n",
       "WALTERS GARETH W                 15\n",
       "BADUM JAMES P                    15\n",
       "LEMAISTRE CHARLES                15\n",
       "DUNCAN JOHN H                    15\n",
       "GRAY RODNEY                      15\n",
       "PRENTICE JAMES                   14\n",
       "                                 ..\n",
       "THORN TERENCE H                   5\n",
       "SKILLING JEFFREY K                5\n",
       "SHELBY REX                        5\n",
       "SHANKMAN JEFFREY A                5\n",
       "MURRAY JULIA H                    5\n",
       "DURAN WILLIAM D                   5\n",
       "MCCONNELL MICHAEL S               5\n",
       "MCMAHON JEFFREY                   5\n",
       "FALLON JAMES B                    5\n",
       "FITZGERALD JAY L                  5\n",
       "KOENIG MARK E                     5\n",
       "KEAN STEVEN J                     5\n",
       "GARLAND C KEVIN                   5\n",
       "GLISAN JR BEN F                   5\n",
       "LAVORATO JOHN J                   5\n",
       "RIEKER PAULA H                    4\n",
       "BELDEN TIMOTHY N                  4\n",
       "SHARP VICTORIA T                  4\n",
       "RICE KENNETH D                    4\n",
       "WASAFF GEORGE                     4\n",
       "OLSON CINDY K                     4\n",
       "HANNON KEVIN P                    4\n",
       "MULLER MARK S                     4\n",
       "BUY RICHARD B                     4\n",
       "PIPER GREGORY F                   3\n",
       "DERRICK JR. JAMES V               3\n",
       "LAY KENNETH L                     2\n",
       "HAEDICKE MARK E                   2\n",
       "FREVERT MARK A                    2\n",
       "ALLEN PHILLIP K                   2\n",
       "dtype: int64"
      ]
     },
     "execution_count": 15,
     "metadata": {},
     "output_type": "execute_result"
    }
   ],
   "source": [
    "nan_per_person = df.isnull().sum(1).sort_values(ascending=False)\n",
    "nan_per_person"
   ]
  },
  {
   "cell_type": "markdown",
   "metadata": {},
   "source": [
    "How many people have NaNs in more than half of the features?"
   ]
  },
  {
   "cell_type": "code",
   "execution_count": 16,
   "metadata": {
    "collapsed": false
   },
   "outputs": [
    {
     "data": {
      "text/plain": [
       "69"
      ]
     },
     "execution_count": 16,
     "metadata": {},
     "output_type": "execute_result"
    }
   ],
   "source": [
    "nan_per_person[nan_per_person >= 10].count()"
   ]
  },
  {
   "cell_type": "markdown",
   "metadata": {},
   "source": [
    "Let's plot in a very informal way the numeric columns, just to get a feeling about the data magnitudes."
   ]
  },
  {
   "cell_type": "code",
   "execution_count": 17,
   "metadata": {
    "collapsed": false
   },
   "outputs": [
    {
     "data": {
      "text/plain": [
       "<matplotlib.axes._subplots.AxesSubplot at 0x7f4bd53a4dd0>"
      ]
     },
     "execution_count": 17,
     "metadata": {},
     "output_type": "execute_result"
    },
    {
     "data": {
      "image/png": "[encoded data removed]",
      "text/plain": [
       "<matplotlib.figure.Figure at 0x7f4baa858650>"
      ]
     },
     "metadata": {},
     "output_type": "display_data"
    }
   ],
   "source": [
    "df.loc[:,df.dtypes==np.float].plot(legend=False, xticks=())"
   ]
  },
  {
   "cell_type": "markdown",
   "metadata": {},
   "source": [
    "Looks like there is a record that is very different that the others... an outlier? Which one is it?"
   ]
  },
  {
   "cell_type": "code",
   "execution_count": 18,
   "metadata": {
    "collapsed": false
   },
   "outputs": [
    {
     "data": {
      "text/html": [
       "<div>\n",
       "<table border=\"1\" class=\"dataframe\">\n",
       "  <thead>\n",
       "    <tr style=\"text-align: right;\">\n",
       "      <th></th>\n",
       "      <th>salary</th>\n",
       "      <th>to_messages</th>\n",
       "      <th>deferral_payments</th>\n",
       "      <th>total_payments</th>\n",
       "      <th>exercised_stock_options</th>\n",
       "      <th>bonus</th>\n",
       "      <th>restricted_stock</th>\n",
       "      <th>shared_receipt_with_poi</th>\n",
       "      <th>restricted_stock_deferred</th>\n",
       "      <th>total_stock_value</th>\n",
       "      <th>...</th>\n",
       "      <th>loan_advances</th>\n",
       "      <th>from_messages</th>\n",
       "      <th>other</th>\n",
       "      <th>from_this_person_to_poi</th>\n",
       "      <th>poi</th>\n",
       "      <th>director_fees</th>\n",
       "      <th>deferred_income</th>\n",
       "      <th>long_term_incentive</th>\n",
       "      <th>email_address</th>\n",
       "      <th>from_poi_to_this_person</th>\n",
       "    </tr>\n",
       "  </thead>\n",
       "  <tbody>\n",
       "    <tr>\n",
       "      <th>TOTAL</th>\n",
       "      <td>26704229.0</td>\n",
       "      <td>NaN</td>\n",
       "      <td>32083396.0</td>\n",
       "      <td>309886585.0</td>\n",
       "      <td>311764000.0</td>\n",
       "      <td>97343619.0</td>\n",
       "      <td>130322299.0</td>\n",
       "      <td>NaN</td>\n",
       "      <td>-7576788.0</td>\n",
       "      <td>434509511.0</td>\n",
       "      <td>...</td>\n",
       "      <td>83925000.0</td>\n",
       "      <td>NaN</td>\n",
       "      <td>42667589.0</td>\n",
       "      <td>NaN</td>\n",
       "      <td>0.0</td>\n",
       "      <td>1398517.0</td>\n",
       "      <td>-27992891.0</td>\n",
       "      <td>48521928.0</td>\n",
       "      <td>NaN</td>\n",
       "      <td>NaN</td>\n",
       "    </tr>\n",
       "  </tbody>\n",
       "</table>\n",
       "<p>1 rows × 21 columns</p>\n",
       "</div>"
      ],
      "text/plain": [
       "           salary  to_messages  deferral_payments  total_payments  \\\n",
       "TOTAL  26704229.0          NaN         32083396.0     309886585.0   \n",
       "\n",
       "       exercised_stock_options       bonus  restricted_stock  \\\n",
       "TOTAL              311764000.0  97343619.0       130322299.0   \n",
       "\n",
       "       shared_receipt_with_poi  restricted_stock_deferred  total_stock_value  \\\n",
       "TOTAL                      NaN                 -7576788.0        434509511.0   \n",
       "\n",
       "                ...            loan_advances  from_messages       other  \\\n",
       "TOTAL           ...               83925000.0            NaN  42667589.0   \n",
       "\n",
       "       from_this_person_to_poi  poi  director_fees  deferred_income  \\\n",
       "TOTAL                      NaN  0.0      1398517.0      -27992891.0   \n",
       "\n",
       "       long_term_incentive  email_address from_poi_to_this_person  \n",
       "TOTAL           48521928.0            NaN                     NaN  \n",
       "\n",
       "[1 rows x 21 columns]"
      ]
     },
     "execution_count": 18,
     "metadata": {},
     "output_type": "execute_result"
    }
   ],
   "source": [
    "a=(df[df.columns[~df.columns.isin(['email_address'])]] > 3e8).any(1)\n",
    "df[a]"
   ]
  },
  {
   "cell_type": "markdown",
   "metadata": {},
   "source": [
    "Sort the columns according to the number of NaN values in them?"
   ]
  },
  {
   "cell_type": "code",
   "execution_count": 19,
   "metadata": {
    "collapsed": false
   },
   "outputs": [
    {
     "data": {
      "text/plain": [
       "loan_advances                142\n",
       "director_fees                129\n",
       "restricted_stock_deferred    128\n",
       "deferral_payments            107\n",
       "deferred_income               97\n",
       "long_term_incentive           80\n",
       "bonus                         64\n",
       "from_poi_to_this_person       60\n",
       "shared_receipt_with_poi       60\n",
       "to_messages                   60\n",
       "from_this_person_to_poi       60\n",
       "from_messages                 60\n",
       "other                         53\n",
       "expenses                      51\n",
       "salary                        51\n",
       "exercised_stock_options       44\n",
       "restricted_stock              36\n",
       "email_address                 35\n",
       "total_payments                21\n",
       "total_stock_value             20\n",
       "poi                            0\n",
       "dtype: int64"
      ]
     },
     "execution_count": 19,
     "metadata": {},
     "output_type": "execute_result"
    }
   ],
   "source": [
    "df.isnull().sum().sort_values(ascending=False)"
   ]
  },
  {
   "cell_type": "markdown",
   "metadata": {},
   "source": [
    "Find out if the values of the non-TOTAL rows sum up correctly to the respective values in the TOTAL row"
   ]
  },
  {
   "cell_type": "code",
   "execution_count": 20,
   "metadata": {
    "collapsed": false
   },
   "outputs": [
    {
     "data": {
      "text/plain": [
       "salary                 True\n",
       "bonus                  True\n",
       "loan_advances          True\n",
       "long_term_incentive    True\n",
       "dtype: bool"
      ]
     },
     "execution_count": 20,
     "metadata": {},
     "output_type": "execute_result"
    }
   ],
   "source": [
    "# Find all columns where the TOTAL row has valid values\n",
    "col_where_total_is_nan = df.loc['TOTAL', df.loc['TOTAL'].notnull()]\n",
    "# Also remove the POI column\n",
    "col_where_total_is_nan.drop('poi', inplace=True)\n",
    "# Get a view of the original DataFrame containing only the columns that carry a valid value for TOTAL\n",
    "df_tot_check = df[col_where_total_is_nan.index]\n",
    "# Check if the non-TOTAL rows sum up correctly to the values in the TOTAL row\n",
    "a = (df_tot_check.loc[~df.index.isin(['TOTAL'])].sum() == df_tot_check.loc['TOTAL'])\n",
    "# Print the column names that sum up correctly to the TOTAL\n",
    "a[a==True]"
   ]
  },
  {
   "cell_type": "markdown",
   "metadata": {},
   "source": [
    "Remove the TOTAL row and the \"LOCKHART EUGENE E\" row, as well as the email column."
   ]
  },
  {
   "cell_type": "code",
   "execution_count": 21,
   "metadata": {
    "collapsed": false
   },
   "outputs": [],
   "source": [
    "df_cleaned = df.drop(['TOTAL', 'LOCKHART EUGENE E'])\n",
    "del(df_cleaned['email_address'])"
   ]
  },
  {
   "cell_type": "code",
   "execution_count": 22,
   "metadata": {
    "collapsed": false
   },
   "outputs": [
    {
     "data": {
      "text/plain": [
       "(144, 20)"
      ]
     },
     "execution_count": 22,
     "metadata": {},
     "output_type": "execute_result"
    }
   ],
   "source": [
    "df_cleaned.shape"
   ]
  },
  {
   "cell_type": "markdown",
   "metadata": {},
   "source": [
    "Separating the cleaned input dataset into features and labels"
   ]
  },
  {
   "cell_type": "code",
   "execution_count": 59,
   "metadata": {
    "collapsed": false
   },
   "outputs": [
    {
     "name": "stdout",
     "output_type": "stream",
     "text": [
      "(144, 19) (144,)\n",
      "Index([u'salary', u'to_messages', u'deferral_payments', u'total_payments',\n",
      "       u'exercised_stock_options', u'bonus', u'restricted_stock',\n",
      "       u'shared_receipt_with_poi', u'restricted_stock_deferred',\n",
      "       u'total_stock_value', u'expenses', u'loan_advances', u'from_messages',\n",
      "       u'other', u'from_this_person_to_poi', u'poi', u'director_fees',\n",
      "       u'deferred_income', u'long_term_incentive', u'from_poi_to_this_person'],\n",
      "      dtype='object')\n"
     ]
    }
   ],
   "source": [
    "X, y = df_cleaned.loc[:,~df_cleaned.columns.isin(['poi'])].values, df_cleaned.poi.values.astype(np.int)\n",
    "names = df_cleaned.index.values\n",
    "feature_names = df_cleaned.columns\n",
    "print X.shape, y.shape\n",
    "print feature_names"
   ]
  },
  {
   "cell_type": "markdown",
   "metadata": {},
   "source": [
    "Learning"
   ]
  },
  {
   "cell_type": "code",
   "execution_count": 127,
   "metadata": {
    "collapsed": false
   },
   "outputs": [],
   "source": [
    "from sklearn.pipeline import Pipeline\n",
    "from sklearn.svm import SVC\n",
    "from sklearn.linear_model import LogisticRegression\n",
    "from sklearn.neighbors import NearestNeighbors\n",
    "from sklearn.tree import DecisionTreeClassifier\n",
    "from sklearn.ensemble import RandomForestClassifier\n",
    "from sklearn.feature_selection import f_classif, SelectKBest\n",
    "from sklearn.preprocessing import StandardScaler, Imputer, MinMaxScaler\n",
    "from sklearn.decomposition import PCA, KernelPCA\n",
    "from sklearn.grid_search import GridSearchCV\n",
    "from sklearn.cross_validation import cross_val_score, StratifiedKFold, StratifiedShuffleSplit\n",
    "from sklearn.metrics import accuracy_score, precision_score, recall_score, f1_score, roc_curve, auc\n",
    "import pydot"
   ]
  },
  {
   "cell_type": "markdown",
   "metadata": {},
   "source": [
    "Removing NaNs and choosing half of the best features"
   ]
  },
  {
   "cell_type": "code",
   "execution_count": 80,
   "metadata": {
    "collapsed": false
   },
   "outputs": [
    {
     "name": "stdout",
     "output_type": "stream",
     "text": [
      "(144, 19) (144,)\n",
      "[0.096466996044551362, 0.1844478897790045, 0.26398607335380175, 0.33113407554201896, 0.88638567907732535, 1.0242232786527743, 2.223561609429177, 3.923641446787566, 4.2848243476650776, 7.3477737824157634, 7.4779387901614962, 8.4287653667034554, 8.4822770639568059, 8.486577387814604, 10.367046503394285, 10.972778462722507, 15.979606683425999, 23.67759272684032, 27.424868115330316]\n",
      "(144, 17)\n"
     ]
    }
   ],
   "source": [
    "imputer = Imputer(strategy='median')\n",
    "X_imputed = imputer.fit_transform(X)\n",
    "y = y.ravel()\n",
    "print X_imputed.shape, y.shape\n",
    "selector = SelectKBest(k=17, score_func=f_classif)\n",
    "X_kbest = selector.fit_transform(X_imputed, y)\n",
    "print sorted(selector.scores_)\n",
    "print X_kbest.shape"
   ]
  },
  {
   "cell_type": "code",
   "execution_count": 66,
   "metadata": {
    "collapsed": false
   },
   "outputs": [
    {
     "name": "stdout",
     "output_type": "stream",
     "text": [
      "[[  2.01955000e+05   2.90200000e+03   2.86971700e+06 ...,  -3.08105500e+06\n",
      "    3.04805000e+05   4.70000000e+01]\n",
      " [             nan              nan   1.78980000e+05 ...,              nan\n",
      "               nan              nan]\n",
      " [  4.77000000e+02   5.66000000e+02              nan ...,  -5.10400000e+03\n",
      "               nan   3.90000000e+01]\n",
      " ..., \n",
      " [             nan              nan              nan ...,              nan\n",
      "               nan              nan]\n",
      " [  1.58403000e+05              nan              nan ...,              nan\n",
      "               nan              nan]\n",
      " [             nan              nan              nan ...,              nan\n",
      "               nan              nan]] [[  2.01955000e+05   2.90200000e+03   2.86971700e+06 ...,  -3.08105500e+06\n",
      "    3.04805000e+05   4.70000000e+01]\n",
      " [  2.58741000e+05   1.21100000e+03   1.78980000e+05 ...,  -1.51927000e+05\n",
      "    4.22158000e+05   3.50000000e+01]\n",
      " [  4.77000000e+02   5.66000000e+02   2.21063500e+05 ...,  -5.10400000e+03\n",
      "    4.22158000e+05   3.90000000e+01]\n",
      " ..., \n",
      " [  2.58741000e+05   1.21100000e+03   2.21063500e+05 ...,  -1.51927000e+05\n",
      "    4.22158000e+05   3.50000000e+01]\n",
      " [  1.58403000e+05   1.21100000e+03   2.21063500e+05 ...,  -1.51927000e+05\n",
      "    4.22158000e+05   3.50000000e+01]\n",
      " [  2.58741000e+05   1.21100000e+03   2.21063500e+05 ...,  -1.51927000e+05\n",
      "    4.22158000e+05   3.50000000e+01]]\n"
     ]
    }
   ],
   "source": [
    "print X, X_imputed"
   ]
  },
  {
   "cell_type": "markdown",
   "metadata": {},
   "source": [
    "Comparing two Logistic regressions - on the full feature space, and on the KBest-selected one"
   ]
  },
  {
   "cell_type": "code",
   "execution_count": 131,
   "metadata": {
    "collapsed": false
   },
   "outputs": [
    {
     "name": "stdout",
     "output_type": "stream",
     "text": [
      "{'logreg__fit_intercept': True, 'logreg__warm_start': False, 'logreg__verbose': 0, 'scaler': StandardScaler(copy=True, with_mean=True, with_std=True), 'logreg__random_state': 123, 'kbest__score_func': <function f_classif at 0x7f4b9bcad410>, 'logreg': LogisticRegression(C=1.0, class_weight='balanced', dual=False,\n",
      "          fit_intercept=True, intercept_scaling=1, max_iter=100,\n",
      "          multi_class='ovr', n_jobs=1, penalty='l1', random_state=123,\n",
      "          solver='liblinear', tol=0.0001, verbose=0, warm_start=False), 'logreg__C': 1.0, 'logreg__max_iter': 100, 'scaler__with_mean': True, 'kbest': SelectKBest(k=12, score_func=<function f_classif at 0x7f4b9bcad410>), 'pca': PCA(copy=True, n_components=2, whiten=False), 'logreg__multi_class': 'ovr', 'pca__copy': True, 'scaler__with_std': True, 'logreg__solver': 'liblinear', 'kbest__k': 12, 'pca__whiten': False, 'logreg__n_jobs': 1, 'scaler__copy': True, 'pca__n_components': 2, 'logreg__intercept_scaling': 1, 'logreg__dual': False, 'logreg__class_weight': 'balanced', 'steps': [('kbest', SelectKBest(k=12, score_func=<function f_classif at 0x7f4b9bcad410>)), ('scaler', StandardScaler(copy=True, with_mean=True, with_std=True)), ('pca', PCA(copy=True, n_components=2, whiten=False)), ('logreg', LogisticRegression(C=1.0, class_weight='balanced', dual=False,\n",
      "          fit_intercept=True, intercept_scaling=1, max_iter=100,\n",
      "          multi_class='ovr', n_jobs=1, penalty='l1', random_state=123,\n",
      "          solver='liblinear', tol=0.0001, verbose=0, warm_start=False))], 'logreg__penalty': 'l1', 'logreg__tol': 0.0001}\n",
      "0.61\n",
      "LogReg on all features, StdScale'd:  0.4\n"
     ]
    }
   ],
   "source": [
    "n_jobs = 1\n",
    "scoring = 'recall'\n",
    "clf = Pipeline([('kbest', SelectKBest()), ('scaler', StandardScaler()), ('pca', PCA()), \n",
    "                ('logreg', LogisticRegression(penalty='l1', class_weight='balanced', random_state=123))])\n",
    "#clf = LogisticRegression(penalty='l1', random_state=123)\n",
    "X_kbest_scaled = StandardScaler().fit_transform(X_kbest)\n",
    "X_imputed_scaled = StandardScaler().fit_transform(X_imputed)\n",
    "#print \"LogReg on KBest-selected features: \", cross_val_score(clf, X_kbest, y, n_jobs=n_jobs, scoring=scoring).mean()\n",
    "#print \"LogReg on all features: \", cross_val_score(clf, X_imputed, y, n_jobs=n_jobs, scoring=scoring).mean()\n",
    "#print \"LogReg on KBest-selected features, StdScale'd: \",cross_val_score(clf, X_kbest_scaled, y, n_jobs=n_jobs, scoring=scoring).mean()\n",
    "#print \"LogReg on all features, StdScale'd: \", cross_val_score(clf, X_imputed_scaled, y, n_jobs=n_jobs, scoring=scoring).mean()\n",
    "n_components = [2, 4, 6,8,10,12,14,16,18]\n",
    "Cs = np.logspace(-4, 4, 3)\n",
    "k = [2,4,6,8,10,12,14,16,18]\n",
    "cv = StratifiedShuffleSplit(y, n_iter=100, random_state=42)\n",
    "grid_search = GridSearchCV(clf, dict(pca__n_components=n_components, kbest__k=k, logreg__C=Cs), \n",
    "                           cv=cv, error_score=0, scoring=scoring, n_jobs=-1)\n",
    "grid_search.fit(X_imputed,y)\n",
    "print grid_search.best_estimator_.get_params()\n",
    "print grid_search.best_score_\n",
    "print \"LogReg on all features, StdScale'd: \", cross_val_score(clf, X_imputed, y, cv = StratifiedKFold(y,n_folds=5),n_jobs=n_jobs, scoring=scoring).mean()\n"
   ]
  },
  {
   "cell_type": "code",
   "execution_count": 102,
   "metadata": {
    "collapsed": false
   },
   "outputs": [
    {
     "data": {
      "text/plain": [
       "array([[-0.51331215,  0.57946589,  3.50740792, ..., -4.84559485,\n",
       "        -0.44143553, -0.08556797],\n",
       "       [-0.11581748, -0.2539891 , -0.29053635, ...,  0.24877845,\n",
       "        -0.24502562, -0.26096709],\n",
       "       [-1.92363213, -0.57189475, -0.23113597, ...,  0.50413471,\n",
       "        -0.24502562, -0.20250072],\n",
       "       ..., \n",
       "       [-0.11581748, -0.2539891 , -0.23113597, ...,  0.24877845,\n",
       "        -0.24502562, -0.26096709],\n",
       "       [-0.81817052, -0.2539891 , -0.23113597, ...,  0.24877845,\n",
       "        -0.24502562, -0.26096709],\n",
       "       [-0.11581748, -0.2539891 , -0.23113597, ...,  0.24877845,\n",
       "        -0.24502562, -0.26096709]])"
      ]
     },
     "execution_count": 102,
     "metadata": {},
     "output_type": "execute_result"
    }
   ],
   "source": [
    "X_kbest_scaled"
   ]
  },
  {
   "cell_type": "markdown",
   "metadata": {},
   "source": [
    "Reducing dimensionality via PCA"
   ]
  },
  {
   "cell_type": "code",
   "execution_count": 103,
   "metadata": {
    "collapsed": false
   },
   "outputs": [
    {
     "name": "stdout",
     "output_type": "stream",
     "text": [
      "(144, 19)\n",
      "(144, 2)\n",
      "LogReg on PCA-2 features:  0.875\n",
      "LogReg on PCA-2 features:  0.875\n"
     ]
    }
   ],
   "source": [
    "pca = KernelPCA(n_components=2, kernel='rbf', gamma=100)\n",
    "print X_imputed_scaled.shape\n",
    "X_imputed_scaled_pca = pca.fit_transform(X_imputed_scaled, y)\n",
    "X_kbest_scaled_pca = pca.fit_transform(X_kbest_scaled, y)\n",
    "print X_imputed_scaled_pca.shape\n",
    "#print pca.explained_variance_ratio_\n",
    "print \"LogReg on PCA-2 features: \", cross_val_score(clf, X_imputed_scaled_pca, y, n_jobs=n_jobs).mean()\n",
    "print \"LogReg on PCA-2 features: \", cross_val_score(clf, X_kbest_scaled_pca, y, n_jobs=n_jobs).mean()"
   ]
  },
  {
   "cell_type": "markdown",
   "metadata": {},
   "source": [
    "Plotting PCA-reduced feature space"
   ]
  },
  {
   "cell_type": "code",
   "execution_count": 51,
   "metadata": {
    "collapsed": false
   },
   "outputs": [
    {
     "data": {
      "text/plain": [
       "<matplotlib.collections.PathCollection at 0x7f4b997d0310>"
      ]
     },
     "execution_count": 51,
     "metadata": {},
     "output_type": "execute_result"
    },
    {
     "data": {
      "image/png": "[encoded data removed]",
      "text/plain": [
       "<matplotlib.figure.Figure at 0x7f4b99838f50>"
      ]
     },
     "metadata": {},
     "output_type": "display_data"
    }
   ],
   "source": [
    "#print X_imputed_scaled_pca\n",
    "pca1 = X_imputed_scaled_pca.take(0, axis=1)\n",
    "pca2 = X_imputed_scaled_pca.take(1, axis=1)\n",
    "#print pca1\n",
    "plt.scatter(pca1, pca2, c=y*40, s=(y+10)*40, alpha = 0.3)"
   ]
  },
  {
   "cell_type": "markdown",
   "metadata": {},
   "source": [
    "Trying a RandomForest"
   ]
  },
  {
   "cell_type": "code",
   "execution_count": 52,
   "metadata": {
    "collapsed": false
   },
   "outputs": [
    {
     "name": "stdout",
     "output_type": "stream",
     "text": [
      "0.111111111111\n"
     ]
    }
   ],
   "source": [
    "clf1 = RandomForestClassifier(n_estimators=30, random_state=123)\n",
    "print cross_val_score(clf1, X_new_scaled, y, scoring='recall').mean()"
   ]
  },
  {
   "cell_type": "markdown",
   "metadata": {},
   "source": [
    "Trying kernel SVM"
   ]
  },
  {
   "cell_type": "code",
   "execution_count": 53,
   "metadata": {
    "collapsed": false
   },
   "outputs": [
    {
     "name": "stdout",
     "output_type": "stream",
     "text": [
      "0.0\n"
     ]
    }
   ],
   "source": [
    "clf2 = SVC(random_state=23, kernel='rbf', C=0.1, gamma=0.1)\n",
    "clf2.fit(X_new_scaled, y)\n",
    "print cross_val_score(clf2, X_new_scaled, y, scoring='recall').mean()"
   ]
  },
  {
   "cell_type": "code",
   "execution_count": 54,
   "metadata": {
    "collapsed": false
   },
   "outputs": [
    {
     "data": {
      "text/plain": [
       "0.875"
      ]
     },
     "execution_count": 54,
     "metadata": {},
     "output_type": "execute_result"
    }
   ],
   "source": [
    "y[y==0].size / float(y.size)"
   ]
  },
  {
   "cell_type": "markdown",
   "metadata": {},
   "source": [
    "##### Appendix: See how \"final_project_dataset_modified.pkl\" is different from \"final_project_dataset.pkl\""
   ]
  },
  {
   "cell_type": "code",
   "execution_count": null,
   "metadata": {
    "collapsed": false
   },
   "outputs": [],
   "source": [
    "dm = pickle.load(open(\"final_project_dataset_modified.pkl\"))\n",
    "do = d"
   ]
  },
  {
   "cell_type": "code",
   "execution_count": null,
   "metadata": {
    "collapsed": false
   },
   "outputs": [],
   "source": [
    "len(dm)"
   ]
  },
  {
   "cell_type": "code",
   "execution_count": null,
   "metadata": {
    "collapsed": false
   },
   "outputs": [],
   "source": [
    "set(do.keys())-set(dm.keys())"
   ]
  },
  {
   "cell_type": "code",
   "execution_count": null,
   "metadata": {
    "collapsed": false
   },
   "outputs": [],
   "source": [
    "len(dm[dm.keys()[0]])"
   ]
  },
  {
   "cell_type": "code",
   "execution_count": null,
   "metadata": {
    "collapsed": false
   },
   "outputs": [],
   "source": [
    "do.pop('LAY KENNETH L',\"\")\n",
    "do.pop('SKILLING JEFFREY K',\"\")\n",
    "do.pop('TOTAL',\"\")"
   ]
  },
  {
   "cell_type": "code",
   "execution_count": null,
   "metadata": {
    "collapsed": false
   },
   "outputs": [],
   "source": [
    "len(do)"
   ]
  },
  {
   "cell_type": "code",
   "execution_count": null,
   "metadata": {
    "collapsed": false
   },
   "outputs": [],
   "source": [
    "do==dm"
   ]
  },
  {
   "cell_type": "code",
   "execution_count": null,
   "metadata": {
    "collapsed": false
   },
   "outputs": [],
   "source": [
    "set(do.keys())==set(dm.keys())"
   ]
  },
  {
   "cell_type": "code",
   "execution_count": null,
   "metadata": {
    "collapsed": false
   },
   "outputs": [],
   "source": [
    "set(dm[dm.keys()[0]].keys())-set(do[do.keys()[0]].keys())"
   ]
  },
  {
   "cell_type": "code",
   "execution_count": null,
   "metadata": {
    "collapsed": false
   },
   "outputs": [],
   "source": [
    "for k in do.keys():\n",
    "    if do[k] != dm[k]:\n",
    "        print k"
   ]
  },
  {
   "cell_type": "markdown",
   "metadata": {
    "collapsed": false
   },
   "source": [
    "##### Appendix 2: Miscellaneous experiments"
   ]
  },
  {
   "cell_type": "code",
   "execution_count": 71,
   "metadata": {
    "collapsed": true
   },
   "outputs": [],
   "source": [
    "from sklearn.cross_validation import KFold, StratifiedKFold"
   ]
  },
  {
   "cell_type": "code",
   "execution_count": 76,
   "metadata": {
    "collapsed": false
   },
   "outputs": [
    {
     "name": "stdout",
     "output_type": "stream",
     "text": [
      "[0 0 0 0 0 0 0 1 1] [ 0  1  2  3 11]\n",
      "[0 0 0 0 0 0 0 1 1] [ 4  5  6  7 12]\n",
      "[0 0 0 0 0 0 0 0 1 1] [ 8  9 10 13]\n"
     ]
    }
   ],
   "source": [
    "labels = np.array([0,0,0,0,0,0,0,0,0,0,0,1,1,1])\n",
    "skf = StratifiedKFold(labels, random_state=123)\n",
    "for train, test in skf:\n",
    "    print(\"%s %s\" % (labels[train], test))"
   ]
  },
  {
   "cell_type": "code",
   "execution_count": 79,
   "metadata": {
    "collapsed": false
   },
   "outputs": [
    {
     "name": "stdout",
     "output_type": "stream",
     "text": [
      "[4 5 6 7 8 9] [0 1 2 3]\n",
      "[0 1 2 3 7 8 9] [4 5 6]\n",
      "[0 1 2 3 4 5 6] [7 8 9]\n"
     ]
    }
   ],
   "source": [
    "labels = np.array([0,0,0,0,0,0,0,0,0,0,0,1,1,1])\n",
    "skf = KFold(10, random_state=123)\n",
    "for train, test in skf:\n",
    "    print(\"%s %s\" % (train, test))"
   ]
  },
  {
   "cell_type": "code",
   "execution_count": null,
   "metadata": {
    "collapsed": true
   },
   "outputs": [],
   "source": []
  }
 ],
 "metadata": {
  "kernelspec": {
   "display_name": "Python 2",
   "language": "python",
   "name": "python2"
  },
  "language_info": {
   "codemirror_mode": {
    "name": "ipython",
    "version": 2
   },
   "file_extension": ".py",
   "mimetype": "text/x-python",
   "name": "python",
   "nbconvert_exporter": "python",
   "pygments_lexer": "ipython2",
   "version": "2.7.6"
  }
 },
 "nbformat": 4,
 "nbformat_minor": 0
}
